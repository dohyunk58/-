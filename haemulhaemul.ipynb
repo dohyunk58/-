{
 "cells": [
  {
   "cell_type": "markdown",
   "metadata": {},
   "source": [
    "### dependency 설치"
   ]
  },
  {
   "cell_type": "code",
   "execution_count": null,
   "metadata": {},
   "outputs": [],
   "source": [
    "%pip install -q llama-index\n",
    "%pip install llama-index-llms-gemini\n",
    "%pip install -q llama-index google-generativeai\n",
    "%pip install llama-index-embeddings-huggingface\n",
    "%pip install llama-index-embeddings-instructor"
   ]
  },
  {
   "cell_type": "markdown",
   "metadata": {},
   "source": [
    "# llama index를 사용해 gemini api 불러오기"
   ]
  },
  {
   "cell_type": "markdown",
   "metadata": {},
   "source": [
    "### pdf 불러오기"
   ]
  },
  {
   "cell_type": "code",
   "execution_count": 3,
   "metadata": {},
   "outputs": [],
   "source": [
    "from llama_index.core import SimpleDirectoryReader\n",
    "\n",
    "reader = SimpleDirectoryReader(input_dir=\"data\")\n",
    "doc1 = reader.load_data()\n",
    "\n",
    "# doc1 = SimpleDirectoryReader(input_files=[\"data\"]).load_data()"
   ]
  },
  {
   "cell_type": "markdown",
   "metadata": {},
   "source": [
    "### 임베딩 다운로드"
   ]
  },
  {
   "cell_type": "code",
   "execution_count": null,
   "metadata": {},
   "outputs": [],
   "source": [
    "from llama_index.embeddings.huggingface import HuggingFaceEmbedding\n",
    "\n",
    "embed_model_ko = HuggingFaceEmbedding(model_name=\"bespin-global/klue-sroberta-base-continue-learning-by-mnr\") "
   ]
  },
  {
   "cell_type": "markdown",
   "metadata": {},
   "source": [
    "### llama index 설정"
   ]
  },
  {
   "cell_type": "code",
   "execution_count": null,
   "metadata": {},
   "outputs": [],
   "source": [
    "from llama_index.core import VectorStoreIndex\n",
    "from llama_index.llms.gemini import Gemini\n",
    "from llama_index.core import ServiceContext\n",
    "\n",
    "llm = Gemini(model_name='models/gemini-1.5-flash', request_timeout=120.0)\n",
    "\n",
    "service_context = ServiceContext.from_defaults(llm=llm, chunk_size=800, chunk_overlap=20, embed_model=embed_model_ko)\n",
    "index = VectorStoreIndex.from_documents(doc1,service_context=service_context,show_progress=True)\n",
    "\n",
    "index.storage_context.persist()\n",
    "\n",
    "query_engine = index.as_query_engine()\n"
   ]
  },
  {
   "cell_type": "markdown",
   "metadata": {},
   "source": [
    "### 질문과 답변 출력"
   ]
  },
  {
   "cell_type": "code",
   "execution_count": 7,
   "metadata": {},
   "outputs": [
    {
     "name": "stdout",
     "output_type": "stream",
     "text": [
      "항만은 선박의 출입, 사람의 승선ㆍ하선, 화물의 하역ㆍ보관 및 처리, 해양친수활동 등을 위한 시설과 화물의 조립ㆍ가공ㆍ포장ㆍ제조 등 부가가치 창출을 위한 시설이 갖추어진 곳을 말합니다. \n",
      "\n",
      "해운업은 해상여객운송사업, 해상화물운송사업, 해운중개업, 해운대리점업, 선박대여업 및 선박관리업을 말합니다. \n",
      "\n"
     ]
    }
   ],
   "source": [
    "response = query_engine.query(\"항만에 대해 정확한 정의를 설명해봐\")\n",
    "\n",
    "print(response)\n",
    "\n",
    "response = query_engine.query(\"해운업에 대한 정의를 말해봐\")\n",
    "\n",
    "print(response)"
   ]
  }
 ],
 "metadata": {
  "kernelspec": {
   "display_name": "venv311",
   "language": "python",
   "name": "python3"
  },
  "language_info": {
   "codemirror_mode": {
    "name": "ipython",
    "version": 3
   },
   "file_extension": ".py",
   "mimetype": "text/x-python",
   "name": "python",
   "nbconvert_exporter": "python",
   "pygments_lexer": "ipython3",
   "version": "3.11.4"
  }
 },
 "nbformat": 4,
 "nbformat_minor": 2
}
