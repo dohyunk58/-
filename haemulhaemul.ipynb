{
 "cells": [
  {
   "cell_type": "markdown",
   "metadata": {},
   "source": [
    "### dependency 설치(매 pull마다 실행하기)"
   ]
  },
  {
   "cell_type": "code",
   "execution_count": null,
   "metadata": {},
   "outputs": [],
   "source": [
    "%pip install --upgrade pip\n",
    "%pip install -r requirements.txt"
   ]
  },
  {
   "cell_type": "markdown",
   "metadata": {},
   "source": [
    "# llama index를 사용한 gemini 챗봇"
   ]
  },
  {
   "cell_type": "markdown",
   "metadata": {},
   "source": [
    "### png 불러오기(tesseract를 사용한 OCR)"
   ]
  },
  {
   "cell_type": "code",
   "execution_count": null,
   "metadata": {},
   "outputs": [],
   "source": [
    "from IPython.display import display, Markdown\n",
    "from llama_index.core import Document\n",
    "from PIL import Image\n",
    "import pytesseract\n",
    "\n",
    "# 문서의 형식 = 텍스트 \n",
    "# tesseract 를 사용하기 위해서는 따로 설치를 하여야 합니다\n",
    "# 튜토리얼 : https://www.allmyuniverse.com/implementing-python-ocr-with-tesseract/ \n",
    "pytesseract.pytesseract.tesseract_cmd = r\"C:\\Program Files\\Tesseract-OCR\\tesseract.exe\"\n",
    "\n",
    "image_path = r'data_png\\dwld.png'\n",
    "doc2_text = pytesseract.image_to_string(Image.open(image_path), lang='kor')\n",
    "\n",
    "# 객체로 변환하기 \n",
    "doc2 = Document(text=doc2_text)\n",
    "# Document 객체 출력\n",
    "print(doc2)"
   ]
  },
  {
   "cell_type": "markdown",
   "metadata": {},
   "source": [
    "### pdf 학습 데이터 위치 설정 후 불러오기"
   ]
  },
  {
   "cell_type": "code",
   "execution_count": 4,
   "metadata": {},
   "outputs": [],
   "source": [
    "from llama_index.core import SimpleDirectoryReader\n",
    "\n",
    "# 학습 데이터 위치 설정 후 불러오기\n",
    "input_dir = r\"data_pdf\"\n",
    "reader = SimpleDirectoryReader(input_dir=input_dir)\n",
    "doc1 = reader.load_data()"
   ]
  },
  {
   "cell_type": "markdown",
   "metadata": {},
   "source": [
    "### pdf OCR로 텍스트 변환(예정)\n",
    "https://medium.com/@dr.booma19/extracting-text-from-pdf-files-using-ocr-a-step-by-step-guide-with-python-code-becf221529ef"
   ]
  },
  {
   "cell_type": "markdown",
   "metadata": {},
   "source": [
    "### 파일 결합"
   ]
  },
  {
   "cell_type": "code",
   "execution_count": null,
   "metadata": {},
   "outputs": [],
   "source": [
    "all_docs = doc1 + [doc2] \n",
    "# print(all_docs)"
   ]
  },
  {
   "cell_type": "markdown",
   "metadata": {},
   "source": [
    "### 임베딩 다운로드"
   ]
  },
  {
   "cell_type": "code",
   "execution_count": null,
   "metadata": {},
   "outputs": [],
   "source": [
    "from llama_index.embeddings.huggingface import HuggingFaceEmbedding\n",
    "\n",
    "embed_model_ko = HuggingFaceEmbedding(model_name=\"bespin-global/klue-sroberta-base-continue-learning-by-mnr\") "
   ]
  },
  {
   "cell_type": "markdown",
   "metadata": {},
   "source": [
    "### llama index 설정"
   ]
  },
  {
   "cell_type": "code",
   "execution_count": null,
   "metadata": {},
   "outputs": [],
   "source": [
    "from llama_index.core import VectorStoreIndex\n",
    "from llama_index.llms.gemini import Gemini\n",
    "from llama_index.core import ServiceContext\n",
    "\n",
    "llm = Gemini(model_name='models/gemini-1.5-flash', request_timeout=120.0)\n",
    "\n",
    "service_context = ServiceContext.from_defaults(llm=llm, chunk_size=800, chunk_overlap=20, embed_model=embed_model_ko)\n",
    "index = VectorStoreIndex.from_documents(all_docs,service_context=service_context,show_progress=True)\n",
    "\n",
    "index.storage_context.persist()\n",
    "\n",
    "query_engine = index.as_query_engine()\n"
   ]
  },
  {
   "cell_type": "markdown",
   "metadata": {},
   "source": [
    "### 멀티턴 질문과 답변"
   ]
  },
  {
   "cell_type": "code",
   "execution_count": null,
   "metadata": {},
   "outputs": [],
   "source": [
    "# 멀티 턴 대화를 위한 history 리스트\n",
    "history = []\n",
    "\n",
    "def ask_query(query, history):\n",
    "    # 대화 히스토리에 현재 쿼리를 추가\n",
    "    history.append({\"role\": \"user\", \"content\": query})\n",
    "    \n",
    "    # 대화 히스토리를 문자열로 병합\n",
    "    formatted_history = \"\\n\".join([f\"{item['role']}: {item['content']}\" for item in history])\n",
    "    \n",
    "    # 쿼리 엔진에 현재 히스토리를 전달하여 응답 생성\n",
    "    response = query_engine.query(formatted_history)\n",
    "     \n",
    "    # 응답을 히스토리에 추가\n",
    "    history.append({\"role\": \"ai\", \"content\": response})\n",
    "    \n",
    "    return response\n",
    "\n"
   ]
  },
  {
   "cell_type": "markdown",
   "metadata": {},
   "source": [
    "### 예시 대화"
   ]
  },
  {
   "cell_type": "code",
   "execution_count": null,
   "metadata": {},
   "outputs": [],
   "source": [
    "# query1 = \"해운법에 대해 설명\"\n",
    "# response1 = ask_query(query1, history)\n",
    "# print(f\"Model: {response1}\")\n",
    "\n",
    "# query2 = \"더 자세히 알려줘\"\n",
    "# response2 = ask_query(query2, history)\n",
    "# print(f\"Model: {response2}\")\n",
    "\n",
    "# query3 = \"칸예 웨스트에 대해 설명해줘\"\n",
    "# response3 = ask_query(query3, history)\n",
    "# print(f\"Model: {response3}\")"
   ]
  },
  {
   "cell_type": "markdown",
   "metadata": {},
   "source": [
    "## Flask로 웹 서버 구동하기"
   ]
  },
  {
   "cell_type": "code",
   "execution_count": null,
   "metadata": {},
   "outputs": [],
   "source": [
    "from flask import Flask, request, jsonify\n",
    "\n",
    "app = Flask(__name__)\n",
    "\n",
    "@app.route('/chatbot', methods=['POST'])\n",
    "def chatbot_response():\n",
    "    user_input = request.json.get('message')\n",
    "    # 여기에 챗봇 로직을 추가하세요.\n",
    "    response = ask_query(user_input, history)\n",
    "    return jsonify({'response': str(response)})\n",
    "\n",
    "if __name__ == '__main__':\n",
    "    app.run(port=5000)"
   ]
  }
 ],
 "metadata": {
  "kernelspec": {
   "display_name": "venv311",
   "language": "python",
   "name": "python3"
  },
  "language_info": {
   "codemirror_mode": {
    "name": "ipython",
    "version": 3
   },
   "file_extension": ".py",
   "mimetype": "text/x-python",
   "name": "python",
   "nbconvert_exporter": "python",
   "pygments_lexer": "ipython3",
   "version": "3.11.4"
  }
 },
 "nbformat": 4,
 "nbformat_minor": 2
}
